{
 "cells": [
  {
   "cell_type": "code",
   "execution_count": 3,
   "metadata": {},
   "outputs": [
    {
     "name": "stdout",
     "output_type": "stream",
     "text": [
      "Measurement Results: {'11': 1024}\n"
     ]
    },
    {
     "data": {
      "image/png": "[encoded data removed]",
      "text/plain": [
       "<Figure size 788.961x284.278 with 1 Axes>"
      ]
     },
     "metadata": {},
     "output_type": "display_data"
    }
   ],
   "source": [
    "from qiskit import QuantumCircuit, transpile\n",
    "from qiskit_aer import AerSimulator\n",
    "\n",
    "def create_composite_gate():\n",
    "    qc_composite = QuantumCircuit(2, name=\"Composite Gate\")\n",
    "    \n",
    "    qc_composite.h(0)\n",
    "    qc_composite.cx(0, 1)\n",
    "    qc_composite.z(1)\n",
    "    \n",
    "    composite_gate = qc_composite.to_instruction()\n",
    "    \n",
    "    return composite_gate\n",
    "\n",
    "def create_main_circuit():\n",
    "    qc_main = QuantumCircuit(2, 2)\n",
    "\n",
    "    composite_gate = create_composite_gate()\n",
    "\n",
    "    qc_main.h(0)\n",
    "    qc_main.x(1)\n",
    "\n",
    "    qc_main.append(composite_gate, [0, 1])\n",
    "\n",
    "    qc_main.s(0)\n",
    "    qc_main.cx(1, 0)\n",
    "\n",
    "    return qc_main\n",
    "\n",
    "def add_measurement(circuit):\n",
    "    circuit.measure([0, 1], [0, 1])\n",
    "\n",
    "def simulate_circuit(circuit):\n",
    "    simulator = AerSimulator()\n",
    "    compiled_circuit = transpile(circuit, simulator)\n",
    "    result = simulator.run(compiled_circuit).result()\n",
    "    counts = result.get_counts(compiled_circuit)\n",
    "    return counts\n",
    "\n",
    "def main():\n",
    "    main_circuit = create_main_circuit()\n",
    "    add_measurement(main_circuit)\n",
    "\n",
    "    results = simulate_circuit(main_circuit)\n",
    "\n",
    "    print(\"Measurement Results:\", results)\n",
    "\n",
    "    display(main_circuit.draw('mpl'))\n",
    "\n",
    "main()\n"
   ]
  },
  {
   "cell_type": "code",
   "execution_count": 2,
   "metadata": {},
   "outputs": [],
   "source": [
    "from qiskit import QuantumCircuit, transpile\n",
    "from qiskit_aer import AerSimulator"
   ]
  },
  {
   "cell_type": "code",
   "execution_count": 3,
   "metadata": {},
   "outputs": [],
   "source": [
    "def take_input():\n",
    "    n = 0\n",
    "    while True:\n",
    "        try:\n",
    "            n = int(input('Enter the number of qubits: '))\n",
    "        except ValueError:\n",
    "            print('Enter valid natural number as number of gates!!')\n",
    "            continue\n",
    "        else:\n",
    "            break\n",
    "    print(f'n = {n}')\n",
    "    return n"
   ]
  },
  {
   "cell_type": "code",
   "execution_count": 4,
   "metadata": {},
   "outputs": [],
   "source": [
    "def ranged_input(n, input_string='', lower_limit=0):\n",
    "    while True:\n",
    "        inp = int(input(input_string))\n",
    "        if inp < lower_limit or inp >= n:\n",
    "            print(f'Please enter a whole number less than {n}')\n",
    "            continue\n",
    "    \n",
    "        return inp"
   ]
  },
  {
   "cell_type": "code",
   "execution_count": 5,
   "metadata": {},
   "outputs": [],
   "source": [
    "def create_circuit():\n",
    "    n = take_input()\n",
    "    \n",
    "    qc = QuantumCircuit(n)\n",
    "    gates = ['X', 'H', 'CX', 'CY', 'I', 'DONE']\n",
    "    \n",
    "    while True:\n",
    "        gate = input('Enter the type of gate (Enter \"done\" when finished giving inputs): ').upper()\n",
    "        if gate not in gates:\n",
    "            print(f'Please enter a valid gate (Possible values: {gates[:-1]}): ')\n",
    "            continue\n",
    "        \n",
    "        if gate == 'X' or gate == 'I' or gate == 'H':\n",
    "            input_string = f'Enter qubit to apply {gate}-gate: '\n",
    "            qubit = ranged_input(n, input_string=input_string)\n",
    "            if gate == 'X':\n",
    "                qc.x(qubit)\n",
    "            elif gate == 'I':\n",
    "                qc.id(qubit)\n",
    "            else:\n",
    "                qc.h(qubit)\n",
    "               \n",
    "        elif gate == 'CX' or gate == 'CY':\n",
    "            control = int(input('Enter control qubit: '))\n",
    "            target = int(input('Enter target qubit: '))\n",
    "            \n",
    "            if gate == 'CX':\n",
    "                qc.cx(control, target)\n",
    "            else:\n",
    "                qc.cy(control, target)\n",
    "        \n",
    "        else:\n",
    "            break\n",
    "    \n",
    "    return qc"
   ]
  },
  {
   "cell_type": "code",
   "execution_count": 6,
   "metadata": {},
   "outputs": [
    {
     "name": "stdout",
     "output_type": "stream",
     "text": [
      "n = 2\n"
     ]
    }
   ],
   "source": [
    "qc = create_circuit()"
   ]
  },
  {
   "cell_type": "code",
   "execution_count": 7,
   "metadata": {},
   "outputs": [
    {
     "data": {
      "image/png": "[encoded data removed]",
      "text/plain": [
       "<Figure size 287.294x200.667 with 1 Axes>"
      ]
     },
     "execution_count": 7,
     "metadata": {},
     "output_type": "execute_result"
    }
   ],
   "source": [
    "qc.draw('mpl')"
   ]
  },
  {
   "cell_type": "code",
   "execution_count": 3,
   "metadata": {},
   "outputs": [],
   "source": [
    "def composite_gate(n):\n",
    "    aux = QuantumCircuit(n, name='AUX')\n",
    "    gates = ['CX', 'H', 'I', 'X', 'CY']\n",
    "    gates_order = []\n",
    "    \n",
    "    while True:\n",
    "        gate = input('Enter the type of gate (Enter \"done\" when finished giving inputs): ').upper()\n",
    "        if gate == 'done':\n",
    "            break\n",
    "        \n",
    "        if gate not in gates:\n",
    "            print(f'Please enter a valid gate (Possible values: {gates}): ')\n",
    "            continue\n",
    "                \n",
    "        if gate == 'X' or gate == 'I' or gate == 'H':\n",
    "            input_string = f'Enter qubit to apply {gate}-gate: '\n",
    "            qubit = ranged_input(n, input_string=input_string)\n",
    "            if gate == 'X':\n",
    "                gates_order.append(['X', qubit])\n",
    "                aux.x(qubit)\n",
    "            elif gate == 'I':\n",
    "                gates_order.append(['I', qubit])\n",
    "                aux.id(qubit)\n",
    "            else:\n",
    "                gates_order.append(['H', qubit])\n",
    "                aux.h(qubit)\n",
    "               \n",
    "        elif gate == 'CX' or gate == 'CY':\n",
    "            control = int(input('Enter control qubit: '))\n",
    "            target = int(input('Enter target qubit: '))\n",
    "            \n",
    "            if gate == 'CX':\n",
    "                gates_order.append(['cx', control, target])\n",
    "                aux.cx(control, target)\n",
    "            else:\n",
    "                gates_order.append(['cy', control, target])\n",
    "                aux.cy(control, target)\n",
    "    \n",
    "    res = QuantumCircuit(n, name='RES')\n",
    "    \n",
    "    for item in gates_order[::-1]:\n",
    "        gate = item[0]\n",
    "        \n",
    "        if gate == 'X':\n",
    "            qubit = item[1]\n",
    "            res.x(qubit)\n",
    "        \n",
    "        elif gate == 'H':\n",
    "            qubit = item[1]\n",
    "            res.h(qubit)\n",
    "        \n",
    "        elif gate == 'I':\n",
    "            qubit = item[1]\n",
    "            res.id(qubit)\n",
    "        \n",
    "        elif gate == 'CX':\n",
    "            control = item[1]\n",
    "            target = item[2]\n",
    "            res.cx(control, target)\n",
    "        \n",
    "        elif gate == 'CY':\n",
    "            control = item[1]\n",
    "            target = item[2]\n",
    "            res.cy(control, target)\n",
    "    \n",
    "    return aux.to_gate(), res.to_gate()"
   ]
  },
  {
   "cell_type": "code",
   "execution_count": 8,
   "metadata": {},
   "outputs": [
    {
     "data": {
      "image/png": "[encoded data removed]",
      "text/plain": [
       "<Figure size 370.906x200.667 with 1 Axes>"
      ]
     },
     "execution_count": 8,
     "metadata": {},
     "output_type": "execute_result"
    }
   ],
   "source": [
    "new_gate = composite_gate()\n",
    "qc.append(new_gate, [0, 1])\n",
    "qc.draw('mpl')"
   ]
  }
 ],
 "metadata": {
  "kernelspec": {
   "display_name": "temp",
   "language": "python",
   "name": "python3"
  },
  "language_info": {
   "codemirror_mode": {
    "name": "ipython",
    "version": 3
   },
   "file_extension": ".py",
   "mimetype": "text/x-python",
   "name": "python",
   "nbconvert_exporter": "python",
   "pygments_lexer": "ipython3",
   "version": "3.12.7"
  }
 },
 "nbformat": 4,
 "nbformat_minor": 2
}
